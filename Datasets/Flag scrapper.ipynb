{
 "cells": [
  {
   "cell_type": "code",
   "execution_count": 7,
   "metadata": {},
   "outputs": [],
   "source": [
    "DRIVER_PATH='C:/Users/Maathess/Desktop/Projet_annuel_flag/Datasets/chromedriver.exe'\n",
    "search_term = [\"ireland flag\"]\n",
    "number_images = 40\n",
    "target_path = './Test'"
   ]
  },
  {
   "cell_type": "code",
   "execution_count": 8,
   "metadata": {},
   "outputs": [],
   "source": [
    "from selenium import webdriver"
   ]
  },
  {
   "cell_type": "code",
   "execution_count": 9,
   "metadata": {},
   "outputs": [],
   "source": [
    "def fetch_image_urls(query:str, max_links_to_fetch:int, wd:webdriver, sleep_between_interactions:int=1):\n",
    "    def scroll_to_end(wd):\n",
    "        wd.execute_script(\"window.scrollTo(0, document.body.scrollHeight);\")\n",
    "        time.sleep(sleep_between_interactions)    \n",
    "    \n",
    "    # build the google query\n",
    "    search_url = \"https://www.google.com/search?safe=off&site=&tbm=isch&source=hp&q={q}&oq={q}&gs_l=img\"\n",
    "\n",
    "    # load the page\n",
    "    wd.get(search_url.format(q=query))\n",
    "\n",
    "    image_urls = set()\n",
    "    image_count = 0\n",
    "    results_start = 0\n",
    "    while image_count < max_links_to_fetch:\n",
    "        scroll_to_end(wd)\n",
    "\n",
    "        # get all image thumbnail results\n",
    "        thumbnail_results = wd.find_elements_by_css_selector(\"img.Q4LuWd\")\n",
    "        number_results = len(thumbnail_results)\n",
    "        \n",
    "        print(f\"Found: {number_results} search results. Extracting links from {results_start}:{number_results}\")\n",
    "        \n",
    "        for img in thumbnail_results[results_start:number_results]:\n",
    "            # try to click every thumbnail such that we can get the real image behind it\n",
    "            try:\n",
    "                img.click()\n",
    "                time.sleep(sleep_between_interactions)\n",
    "            except Exception:\n",
    "                continue\n",
    "\n",
    "            # extract image urls    \n",
    "            actual_images = wd.find_elements_by_css_selector('img.n3VNCb')\n",
    "            for actual_image in actual_images:\n",
    "                if actual_image.get_attribute('src') and 'http' in actual_image.get_attribute('src'):\n",
    "                    image_urls.add(actual_image.get_attribute('src'))\n",
    "\n",
    "            image_count = len(image_urls)\n",
    "\n",
    "            if len(image_urls) >= max_links_to_fetch:\n",
    "                print(f\"Found: {len(image_urls)} image links, done!\")\n",
    "                break\n",
    "        else:\n",
    "            print(\"Found:\", len(image_urls), \"image links, looking for more ...\")\n",
    "            time.sleep(30)\n",
    "            return\n",
    "            load_more_button = wd.find_element_by_css_selector(\".mye4qd\")\n",
    "            if load_more_button:\n",
    "                wd.execute_script(\"document.querySelector('.mye4qd').click();\")\n",
    "\n",
    "        # move the result startpoint further down\n",
    "        results_start = len(thumbnail_results)\n",
    "\n",
    "    return image_urls"
   ]
  },
  {
   "cell_type": "code",
   "execution_count": 10,
   "metadata": {},
   "outputs": [],
   "source": [
    "def persist_image(folder_path:str,url:str):\n",
    "    try:\n",
    "        image_content = requests.get(url).content\n",
    "\n",
    "    except Exception as e:\n",
    "        print(f\"ERROR - Could not download {url} - {e}\")\n",
    "        \n",
    "\n",
    "    try:\n",
    "        image_file = io.BytesIO(image_content)\n",
    "        image = Image.open(image_file).convert('RGB')\n",
    "        file_path = os.path.join(folder_path,hashlib.sha1(image_content).hexdigest()[:10] + '.jpg')\n",
    "        with open(file_path, 'wb') as f:\n",
    "            image.save(f, \"JPEG\", quality=85)\n",
    "        print(f\"SUCCESS - saved {url} - as {file_path}\")\n",
    "    except Exception as e:\n",
    "        print(f\"ERROR - Could not save {url} - {e}\")"
   ]
  },
  {
   "cell_type": "code",
   "execution_count": 11,
   "metadata": {},
   "outputs": [],
   "source": [
    "def search_and_download(search_term:str,driver_path:str,target_path='./Test',number_images=5):\n",
    "    target_folder = os.path.join(target_path,'_'.join(search_term.lower().split(' ')))\n",
    "\n",
    "    if not os.path.exists(target_folder):\n",
    "        os.makedirs(target_folder)\n",
    "\n",
    "    with webdriver.Chrome(executable_path=driver_path) as wd:\n",
    "        res = fetch_image_urls(search_term, number_images, wd=wd, sleep_between_interactions=0.5)\n",
    "        \n",
    "    for elem in res:\n",
    "        persist_image(target_folder,elem)"
   ]
  },
  {
   "cell_type": "code",
   "execution_count": 12,
   "metadata": {},
   "outputs": [
    {
     "name": "stdout",
     "output_type": "stream",
     "text": [
      "Found: 100 search results. Extracting links from 0:100\n",
      "Found: 40 image links, done!\n",
      "SUCCESS - saved https://upload.wikimedia.org/wikipedia/commons/thumb/4/45/Flag_of_Ireland.svg/2560px-Flag_of_Ireland.svg.png - as ./Test\\ireland_flag\\5ae3523afe.jpg\n",
      "SUCCESS - saved https://ak.picdn.net/shutterstock/videos/19686439/thumb/1.jpg - as ./Test\\ireland_flag\\3bc6a9a805.jpg\n",
      "SUCCESS - saved https://cdn11.bigcommerce.com/s-ey7tq/images/stencil/1280x1280/products/3320/18821/ireland-flag__72814.1575333970.jpg?c=2 - as ./Test\\ireland_flag\\7ca474da13.jpg\n",
      "SUCCESS - saved https://i.pinimg.com/originals/f5/0b/c8/f50bc8f5f70d4891062da1050af5c149.png - as ./Test\\ireland_flag\\0d9f1298f4.jpg\n",
      "SUCCESS - saved https://patchion.com/522/flag-of-ireland-small.jpg - as ./Test\\ireland_flag\\1bcabbe8c8.jpg\n",
      "SUCCESS - saved https://encrypted-tbn0.gstatic.com/images?q=tbn:ANd9GcTdubWWBuorlvy1G6Oh_BAF-N2R0ttwtMlC6A&usqp=CAU - as ./Test\\ireland_flag\\4cb91578be.jpg\n",
      "SUCCESS - saved https://www.vedi-express.com/34504-thickbox_default/northern-ireland-flag.jpg - as ./Test\\ireland_flag\\16f50d1064.jpg\n",
      "SUCCESS - saved https://encrypted-tbn0.gstatic.com/images?q=tbn:ANd9GcQLwKN5-qacSEtJHI6I2cGnOrxmScBIv3RFdw&usqp=CAU - as ./Test\\ireland_flag\\029992332e.jpg\n",
      "SUCCESS - saved https://m.media-amazon.com/images/I/51NyHGyJUSL._AC_SL1500_.jpg - as ./Test\\ireland_flag\\990e5c1303.jpg\n",
      "SUCCESS - saved https://www.discountdisplays.co.uk/html/pub/media/catalog/product/cache/72b9da7bdd6e4720f092f5c7160efe8b/f/l/flag-of-ireland_1.jpg - as ./Test\\ireland_flag\\a91cebc89e.jpg\n",
      "SUCCESS - saved https://image.shutterstock.com/image-vector/ireland-flag-vector-260nw-301086854.jpg - as ./Test\\ireland_flag\\7e71b92116.jpg\n",
      "SUCCESS - saved https://www.kilts-n-stuff.com/wp-content/uploads/ireland-flying.jpg - as ./Test\\ireland_flag\\6a51159df7.jpg\n",
      "SUCCESS - saved https://www.vedi-express.com/34416-large_default/ireland-flag.jpg - as ./Test\\ireland_flag\\599fff0f30.jpg\n",
      "SUCCESS - saved https://encrypted-tbn0.gstatic.com/images?q=tbn:ANd9GcQ2gxyaFnJR57Ly3YEo_ZzyROMLdoJQDOZEeA&usqp=CAU - as ./Test\\ireland_flag\\e7d99b62ae.jpg\n",
      "SUCCESS - saved https://media.gettyimages.com/illustrations/ireland-flag-illustration-id107797077 - as ./Test\\ireland_flag\\127b35afd3.jpg\n",
      "SUCCESS - saved https://www.partyrama.co.uk/wp-content/uploads/2014/02/ireland-flag-5ft-x-3ft-product-image.jpg - as ./Test\\ireland_flag\\0bea40065f.jpg\n",
      "SUCCESS - saved https://m.media-amazon.com/images/I/419hyjnCMiL._AC_.jpg - as ./Test\\ireland_flag\\f107796fb7.jpg\n",
      "SUCCESS - saved https://upload.wikimedia.org/wikipedia/commons/7/7f/St_Patrick_Northern_Ireland_Flag.png - as ./Test\\ireland_flag\\50f0df57c1.jpg\n",
      "SUCCESS - saved https://cdn11.bigcommerce.com/s-2lbnjvmw4d/images/stencil/1280x1280/products/2976/4926/irelandmaterial__67135.1601394153.jpg?c=2 - as ./Test\\ireland_flag\\a4a9e0176e.jpg\n",
      "SUCCESS - saved https://ae01.alicdn.com/kf/Hf5994fe9a2994c1c93d19358275e2dcbZ/johnin-hanging-90X150cm-green-white-orange-IRE-IR-IRISH-ireland-Flag.jpg_Q90.jpg_.webp - as ./Test\\ireland_flag\\d071981857.jpg\n",
      "SUCCESS - saved https://image.shutterstock.com/image-vector/ireland-flag-vector-illustration-260nw-1046253184.jpg - as ./Test\\ireland_flag\\8db45c249b.jpg\n",
      "SUCCESS - saved https://encrypted-tbn0.gstatic.com/images?q=tbn:ANd9GcSCK0sbQk-MDkbno0i129ILGc1caJbfDRDMWw&usqp=CAU - as ./Test\\ireland_flag\\a8a0b71475.jpg\n",
      "SUCCESS - saved https://m.media-amazon.com/images/I/51OYB6ZIxDL._AC_SL1126_.jpg - as ./Test\\ireland_flag\\b37c1b2ad3.jpg\n",
      "SUCCESS - saved https://encrypted-tbn0.gstatic.com/images?q=tbn:ANd9GcTuXwCl9_oSyhDV15OZNGJc2D2PdfzSg9wdwg&usqp=CAU - as ./Test\\ireland_flag\\78f45a4581.jpg\n",
      "SUCCESS - saved https://cdn11.bigcommerce.com/s-w6fxwapwzi/images/stencil/1280x1280/products/2535/5348/2x3-ireland-flag-image__75783.1582735723.jpg?c=1 - as ./Test\\ireland_flag\\ea1dbe8cda.jpg\n",
      "ERROR - Could not download https://www.flagsonline.it/uploads/2016-9-2/1200-0/ireland.jpg - HTTPSConnectionPool(host='www.flagsonline.it', port=443): Max retries exceeded with url: /uploads/2016-9-2/1200-0/ireland.jpg (Caused by SSLError(SSLCertVerificationError(1, '[SSL: CERTIFICATE_VERIFY_FAILED] certificate verify failed: unable to get local issuer certificate (_ssl.c:1076)')))\n",
      "ERROR - Could not save https://www.flagsonline.it/uploads/2016-9-2/1200-0/ireland.jpg - local variable 'image_content' referenced before assignment\n",
      "ERROR - Could not save https://upload.wikimedia.org/wikipedia/commons/7/7a/Flags_of_Ivory_Coast_and_Ireland.png - cannot identify image file <_io.BytesIO object at 0x000001E1534C3F48>\n",
      "SUCCESS - saved https://encrypted-tbn0.gstatic.com/images?q=tbn:ANd9GcSXiuQGdRZgC1D7UOeeijKkrbhjbn5VVxfmVQ&usqp=CAU - as ./Test\\ireland_flag\\357340b39d.jpg\n",
      "SUCCESS - saved https://i.pinimg.com/736x/59/1c/93/591c9315b1f1b63c6878068f3c1add78--flag-of-ireland-flag-of-scotland.jpg - as ./Test\\ireland_flag\\43bac185ce.jpg\n",
      "SUCCESS - saved https://images.assetsdelivery.com/thumbnails/boldg/boldg1808/boldg180800234.jpg - as ./Test\\ireland_flag\\d6299b8d14.jpg\n",
      "SUCCESS - saved https://cdn11.bigcommerce.com/s-2lbnjvmw4d/images/stencil/1280x1280/products/3648/5272/irelandwithshamrock__61604.1615971128.jpg?c=2 - as ./Test\\ireland_flag\\f9062dd601.jpg\n",
      "SUCCESS - saved https://windeurope.org/wp-content/uploads/Ireland-flag.jpg - as ./Test\\ireland_flag\\037857fb0a.jpg\n",
      "SUCCESS - saved https://encrypted-tbn0.gstatic.com/images?q=tbn:ANd9GcRjA2lS77EXcwcUv47To9vKJCXfBk9i0qW4TQ&usqp=CAU - as ./Test\\ireland_flag\\2dae309027.jpg\n",
      "SUCCESS - saved https://media.istockphoto.com/vectors/ireland-flag-icon-vector-id1093943310?k=6&m=1093943310&s=612x612&w=0&h=OEL5MVxgzzRM1LuMRH60mgx7amRKjdGrOhDn1EJ_avo= - as ./Test\\ireland_flag\\2367884d0f.jpg\n",
      "SUCCESS - saved https://encrypted-tbn0.gstatic.com/images?q=tbn:ANd9GcT-k5Um9CbNwJ18jRX8Tv-H5iCNUyscimvnuA&usqp=CAU - as ./Test\\ireland_flag\\a21e514c7a.jpg\n",
      "SUCCESS - saved https://encrypted-tbn0.gstatic.com/images?q=tbn:ANd9GcTORCMsnmhJ7oeimf1JzJOD7w6ofKx7SC9KUA&usqp=CAU - as ./Test\\ireland_flag\\f90914614b.jpg\n",
      "SUCCESS - saved https://encrypted-tbn0.gstatic.com/images?q=tbn:ANd9GcRenY_6FR2LG1aYQka38waUZqmD2pCeQjgXtA&usqp=CAU - as ./Test\\ireland_flag\\b5e9fe4b89.jpg\n",
      "SUCCESS - saved https://www.comptoir-irlandais.com/1039-thickbox_default/irish-flag-on-a-stick-30-x-40-cm.jpg - as ./Test\\ireland_flag\\cbcc007f44.jpg\n",
      "SUCCESS - saved https://encrypted-tbn0.gstatic.com/images?q=tbn:ANd9GcR_toCbfA0lWlEuaZg6tzOiqZ35ST3KyoQMCg&usqp=CAU - as ./Test\\ireland_flag\\3e7ccc0505.jpg\n",
      "SUCCESS - saved https://p.armam.at/Ireland-Flag-Patch-Color-cg20133large4.png - as ./Test\\ireland_flag\\e31701e0a9.jpg\n"
     ]
    }
   ],
   "source": [
    "import os \n",
    "import time\n",
    "import requests\n",
    "import io\n",
    "from PIL import Image\n",
    "import hashlib\n",
    "\n",
    "for ele in search_term:\n",
    "    search_and_download(search_term = ele, driver_path=DRIVER_PATH, target_path=target_path, number_images=number_images)"
   ]
  },
  {
   "cell_type": "code",
   "execution_count": null,
   "metadata": {},
   "outputs": [],
   "source": []
  }
 ],
 "metadata": {
  "kernelspec": {
   "display_name": "Python 3",
   "language": "python",
   "name": "python3"
  },
  "language_info": {
   "codemirror_mode": {
    "name": "ipython",
    "version": 3
   },
   "file_extension": ".py",
   "mimetype": "text/x-python",
   "name": "python",
   "nbconvert_exporter": "python",
   "pygments_lexer": "ipython3",
   "version": "3.7.4"
  }
 },
 "nbformat": 4,
 "nbformat_minor": 2
}
