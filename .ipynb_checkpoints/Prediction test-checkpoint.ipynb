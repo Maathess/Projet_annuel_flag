{
 "cells": [
  {
   "cell_type": "code",
   "execution_count": 150,
   "metadata": {},
   "outputs": [],
   "source": [
    "import os\n",
    "from ctypes import *\n",
    "\n",
    "import numpy as np\n",
    "from PIL import Image\n",
    "from matplotlib import pyplot as plt"
   ]
  },
  {
   "cell_type": "code",
   "execution_count": 151,
   "metadata": {},
   "outputs": [],
   "source": [
    "path_to_dll = \"C:/Users/Maathess/Desktop/Projet_annuel_flag/PMC/cmake-build-debug/PMC2.dll\"\n",
    "mylib = cdll.LoadLibrary(path_to_dll)"
   ]
  },
  {
   "cell_type": "code",
   "execution_count": 164,
   "metadata": {},
   "outputs": [],
   "source": [
    "def import_images_and_assign_labels(\n",
    "        folder, label, X, Y\n",
    "):\n",
    "    for file in os.listdir(folder):\n",
    "        image_path = os.path.join(folder, file)\n",
    "        im = Image.open(image_path)\n",
    "        im = im.resize((8,8))\n",
    "        im = im.convert(\"RGB\")\n",
    "        im_arr = np.array(im)\n",
    "        im_arr = np.reshape(im_arr, (8 * 8 * 3))\n",
    "        X.append(im_arr)\n",
    "        Y.append(label)\n",
    "\n",
    "\n",
    "def import_dataset():\n",
    "    dataset_folder = \"C:/Users/Maathess/Desktop/Projet_annuel_flag/Datasets\"\n",
    "    train_folder = os.path.join(dataset_folder, \"train\")\n",
    "    test_folder = os.path.join(dataset_folder, \"test\")\n",
    "\n",
    "    X_train = []\n",
    "    y_train = []\n",
    "    import_images_and_assign_labels(\n",
    "        os.path.join(train_folder, \"french_flag\"), [1,0,0], X_train, y_train\n",
    "    )\n",
    "    \n",
    "    import_images_and_assign_labels(\n",
    "        os.path.join(train_folder, \"brazil_flag\"), [0,1,0], X_train, y_train\n",
    "    )\n",
    "    \n",
    "    import_images_and_assign_labels(\n",
    "        os.path.join(train_folder, \"ireland_flag\"), [0,0,1], X_train, y_train\n",
    "    )\n",
    "    \n",
    "    X_test = []\n",
    "    y_test = []\n",
    "    import_images_and_assign_labels(\n",
    "        os.path.join(test_folder, \"french_flag\"), [1,0,0], X_test, y_test\n",
    "    )\n",
    "    \n",
    "    import_images_and_assign_labels(\n",
    "        os.path.join(test_folder, \"brazil_flag\"), [0,1,0], X_test, y_test\n",
    "    )\n",
    "    \n",
    "    import_images_and_assign_labels(\n",
    "        os.path.join(test_folder, \"ireland_flag\"), [0,0,1], X_test, y_test\n",
    "    )\n",
    "\n",
    "    return (np.array(X_train) / 255.0, np.array(y_train)), \\\n",
    "           (np.array(X_test) / 255.0, np.array(y_test))\n"
   ]
  },
  {
   "cell_type": "code",
   "execution_count": 230,
   "metadata": {},
   "outputs": [],
   "source": [
    "def run():\n",
    "    (X_train, y_train), (X_test, y_test) = import_dataset()\n",
    "    dataset_inputs = np.array(X_train)\n",
    "    dataset_expected_outputs = np.array(y_train)\n",
    "\n",
    "    init_tab = [2, 3]\n",
    "    init_size = len(init_tab)\n",
    "    init_type = c_int * init_size\n",
    "    init = init_type(*init_tab)\n",
    "\n",
    "    mylib.create_mlp_model.argtypes = [init_type, c_int]\n",
    "    mylib.create_mlp_model.restype = c_void_p\n",
    "\n",
    "    model = mylib.create_mlp_model(init, int(init_size))\n",
    "    test_dataset = X_test\n",
    "    img_test= [X_test[0]]\n",
    "    colors = [\"blue\" if np.argmax(output) == 0 else (\"red\" if np.argmax(output) == 1 else \"green\") for output in dataset_expected_outputs]\n",
    "\n",
    "    mylib.getXSize.argtypes = [c_void_p]\n",
    "    mylib.getXSize.restype = c_int\n",
    "    tmp_len = mylib.getXSize(model)\n",
    "\n",
    "    flattened_dataset_inputs = []\n",
    "    for p in dataset_inputs :\n",
    "        flattened_dataset_inputs.append(p[0])\n",
    "        flattened_dataset_inputs.append(p[1])\n",
    "\n",
    "    arrsize_flat = len(flattened_dataset_inputs)\n",
    "    arrtype_flat = c_float * arrsize_flat\n",
    "    arr_flat = arrtype_flat(*flattened_dataset_inputs)\n",
    "\n",
    "    arrsize_exp = len(flattened_dataset_inputs)\n",
    "    arrtype_exp = c_float * arrsize_exp\n",
    "    arr_exp = arrtype_exp(*flattened_dataset_inputs)\n",
    "    \n",
    "    predicted_outputs = []\n",
    "    for p in img_test :\n",
    "        arrsizeP = len(p)\n",
    "        arrtypeP = c_float * arrsizeP\n",
    "        arrP = arrtypeP(*p)\n",
    "        mylib.predict_mlp_model_classification.argtypes = [c_void_p, arrtypeP]\n",
    "        mylib.predict_mlp_model_classification.restype = POINTER(c_float)\n",
    "        tmp = []\n",
    "\n",
    "        tmp = mylib.predict_mlp_model_classification(model, arrP)\n",
    "        np_arr = np.ctypeslib.as_array(tmp, (tmp_len,))\n",
    "        predicted_outputs.append(np_arr)\n",
    "    \n",
    "    '''predicted_outputs_colors = [\"blue\" if np.argmax(output) == 0 else (\"red\" if np.argmax(output) == 1 else \"green\") for output in predicted_outputs]\n",
    "    plt.scatter([p[0] for p in test_dataset], [p[1] for p in test_dataset], c=predicted_outputs_colors)\n",
    "    plt.scatter([p[0] for p in dataset_inputs], [p[1] for p in dataset_inputs], c=colors, s=200)\n",
    "    plt.show()\n",
    "    '''\n",
    "    \n",
    "    predicted_outputs_colors = [\"blue\" if np.argmax(output) == 0 else (\"red\" if np.argmax(output) == 1 else \"green\") for output in predicted_outputs]\n",
    "    plt.scatter([p[0] for p in test_dataset], [p[1] for p in test_dataset], c=predicted_outputs_colors)\n",
    "    plt.scatter(np.array(list(map(lambda elt : elt[1], filter(lambda c: dataset_expected_outputs[c[0]][0] == 1, enumerate(dataset_inputs)))))[:,0], np.array(list(map(lambda elt : elt[1], filter(lambda c: dataset_expected_outputs[c[0]][0] == 1, enumerate(dataset_inputs)))))[:,1], color='blue')\n",
    "    plt.scatter(np.array(list(map(lambda elt : elt[1], filter(lambda c: dataset_expected_outputs[c[0]][1] == 1, enumerate(dataset_inputs)))))[:,0], np.array(list(map(lambda elt : elt[1], filter(lambda c: dataset_expected_outputs[c[0]][1] == 1, enumerate(dataset_inputs)))))[:,1], color='red')\n",
    "    plt.scatter(np.array(list(map(lambda elt : elt[1], filter(lambda c: dataset_expected_outputs[c[0]][2] == 1, enumerate(dataset_inputs)))))[:,0], np.array(list(map(lambda elt : elt[1], filter(lambda c: dataset_expected_outputs[c[0]][2] == 1, enumerate(dataset_inputs)))))[:,1], color='green')\n",
    "    plt.show()\n",
    "    plt.clf()\n",
    "\n",
    "    print(predicted_outputs)\n",
    "    \n",
    "    mylib.destroy_MLP(model)"
   ]
  },
  {
   "cell_type": "code",
   "execution_count": 231,
   "metadata": {},
   "outputs": [
    {
     "data": {
      "image/png": "[encoded data removed]",
      "text/plain": [
       "<Figure size 432x288 with 1 Axes>"
      ]
     },
     "metadata": {
      "needs_background": "light"
     },
     "output_type": "display_data"
    },
    {
     "name": "stdout",
     "output_type": "stream",
     "text": [
      "[array([-0.7615942,  0.       ,  0.7615942], dtype=float32)]\n"
     ]
    },
    {
     "ename": "ArgumentError",
     "evalue": "argument 1: <class 'OverflowError'>: int too long to convert",
     "output_type": "error",
     "traceback": [
      "\u001b[1;31m---------------------------------------------------------------------------\u001b[0m",
      "\u001b[1;31mArgumentError\u001b[0m                             Traceback (most recent call last)",
      "\u001b[1;32m<ipython-input-231-4a5b8788c965>\u001b[0m in \u001b[0;36m<module>\u001b[1;34m\u001b[0m\n\u001b[0;32m      1\u001b[0m \u001b[1;32mif\u001b[0m \u001b[0m__name__\u001b[0m \u001b[1;33m==\u001b[0m \u001b[1;34m\"__main__\"\u001b[0m\u001b[1;33m:\u001b[0m\u001b[1;33m\u001b[0m\u001b[1;33m\u001b[0m\u001b[0m\n\u001b[1;32m----> 2\u001b[1;33m     \u001b[0mrun\u001b[0m\u001b[1;33m(\u001b[0m\u001b[1;33m)\u001b[0m\u001b[1;33m\u001b[0m\u001b[1;33m\u001b[0m\u001b[0m\n\u001b[0m",
      "\u001b[1;32m<ipython-input-230-b32b441c75ab>\u001b[0m in \u001b[0;36mrun\u001b[1;34m()\u001b[0m\n\u001b[0;32m     63\u001b[0m     \u001b[0mprint\u001b[0m\u001b[1;33m(\u001b[0m\u001b[0mpredicted_outputs\u001b[0m\u001b[1;33m)\u001b[0m\u001b[1;33m\u001b[0m\u001b[1;33m\u001b[0m\u001b[0m\n\u001b[0;32m     64\u001b[0m \u001b[1;33m\u001b[0m\u001b[0m\n\u001b[1;32m---> 65\u001b[1;33m     \u001b[0mmylib\u001b[0m\u001b[1;33m.\u001b[0m\u001b[0mdestroy_MLP\u001b[0m\u001b[1;33m(\u001b[0m\u001b[0mmodel\u001b[0m\u001b[1;33m)\u001b[0m\u001b[1;33m\u001b[0m\u001b[1;33m\u001b[0m\u001b[0m\n\u001b[0m",
      "\u001b[1;31mArgumentError\u001b[0m: argument 1: <class 'OverflowError'>: int too long to convert"
     ]
    },
    {
     "data": {
      "text/plain": [
       "<Figure size 432x288 with 0 Axes>"
      ]
     },
     "metadata": {},
     "output_type": "display_data"
    }
   ],
   "source": [
    "if __name__ == \"__main__\":\n",
    "    run()"
   ]
  },
  {
   "cell_type": "code",
   "execution_count": 238,
   "metadata": {},
   "outputs": [],
   "source": [
    "def run_train():\n",
    "    (X_train, y_train), (X_test, y_test) = import_dataset()\n",
    "    dataset_inputs = np.array(X_train)\n",
    "    dataset_expected_outputs = np.array(y_train)\n",
    "\n",
    "    init_tab = [2,3]\n",
    "    init_size = len(init_tab)\n",
    "    init_type = c_int * init_size\n",
    "    init = init_type(*init_tab)\n",
    "\n",
    "    mylib.create_mlp_model.argtypes = [init_type, c_int]\n",
    "    mylib.create_mlp_model.restype = c_void_p\n",
    "\n",
    "    model1 = mylib.create_mlp_model(init, int(init_size))\n",
    "    test_dataset = X_test\n",
    "    img_test = [X_test[0]]\n",
    "    colors = [\"blue\" if np.argmax(output) == 0 else (\"red\" if np.argmax(output) == 1 else \"green\") for output in dataset_expected_outputs]\n",
    "\n",
    "    mylib.getXSize.argtypes = [c_void_p]\n",
    "    mylib.getXSize.restype = c_int\n",
    "    tmp_len = mylib.getXSize(model1)\n",
    "\n",
    "    flattened_dataset_inputs = []\n",
    "    for p in dataset_inputs :\n",
    "        flattened_dataset_inputs.append(p[0])\n",
    "        flattened_dataset_inputs.append(p[1])\n",
    "        \n",
    "    flattened_dataset_outputs = []\n",
    "    for p in dataset_expected_outputs:\n",
    "        flattened_dataset_outputs.append(p[0])\n",
    "        flattened_dataset_outputs.append(p[1])\n",
    "        flattened_dataset_outputs.append(p[2])\n",
    "\n",
    "    # definition de train_classification_stochastic_gradient....\n",
    "    arrsize_flat = len(flattened_dataset_inputs)\n",
    "    arrtype_flat = c_float * arrsize_flat\n",
    "    arr_flat = arrtype_flat(*flattened_dataset_inputs)\n",
    "\n",
    "    arrsize_exp = len(flattened_dataset_outputs)\n",
    "    arrtype_exp = c_float * arrsize_exp\n",
    "    arr_exp = arrtype_exp(*flattened_dataset_outputs)\n",
    "\n",
    "    mylib.train_classification_stochastic_gradient_backpropagation_mlp_model.argtypes = [c_void_p, arrtype_flat, c_int,\n",
    "                                                                                         arrtype_exp, c_float, c_int]\n",
    "    mylib.train_classification_stochastic_gradient_backpropagation_mlp_model.restype = None\n",
    "\n",
    "    mylib.train_classification_stochastic_gradient_backpropagation_mlp_model(model1, arr_flat, arrsize_flat, arr_exp,\n",
    "                                                                             0.001, 10000)\n",
    "    predicted_outputs = []\n",
    "    for p in img_test :\n",
    "        arrsizeP = len(p)\n",
    "        arrtypeP = c_float * arrsizeP\n",
    "        arrP = arrtypeP(*p)\n",
    "        mylib.predict_mlp_model_classification.argtypes = [c_void_p, arrtypeP]\n",
    "        mylib.predict_mlp_model_classification.restype = POINTER(c_float)\n",
    "\n",
    "        tmp = mylib.predict_mlp_model_classification(model1, arrP)\n",
    "        np_arr = np.ctypeslib.as_array(tmp, (tmp_len,))\n",
    "        predicted_outputs.append(np_arr)\n",
    "\n",
    "    '''\n",
    "    predicted_outputs_colors = [\"blue\" if np.argmax(output) == 0 else (\"red\" if np.argmax(output) == 1 else \"green\") for output in predicted_outputs]\n",
    "    plt.scatter([p[0] for p in test_dataset], [p[1] for p in test_dataset], c=predicted_outputs_colors)\n",
    "    plt.scatter([p[0] for p in dataset_inputs], [p[1] for p in dataset_inputs], c=colors, s=200)\n",
    "    plt.show()\n",
    "    '''\n",
    "    predicted_outputs_colors = [\"blue\" if np.argmax(output) == 0 else (\"red\" if np.argmax(output) == 1 else \"green\") for output in predicted_outputs]\n",
    "    plt.scatter([p[0] for p in test_dataset], [p[1] for p in test_dataset], c=predicted_outputs_colors)\n",
    "    plt.scatter(np.array(list(map(lambda elt : elt[1], filter(lambda c: dataset_expected_outputs[c[0]][0] == 1, enumerate(dataset_inputs)))))[:,0], np.array(list(map(lambda elt : elt[1], filter(lambda c: dataset_expected_outputs[c[0]][0] == 1, enumerate(dataset_inputs)))))[:,1], color='blue')\n",
    "    plt.scatter(np.array(list(map(lambda elt : elt[1], filter(lambda c: dataset_expected_outputs[c[0]][1] == 1, enumerate(dataset_inputs)))))[:,0], np.array(list(map(lambda elt : elt[1], filter(lambda c: dataset_expected_outputs[c[0]][1] == 1, enumerate(dataset_inputs)))))[:,1], color='red')\n",
    "    plt.scatter(np.array(list(map(lambda elt : elt[1], filter(lambda c: dataset_expected_outputs[c[0]][2] == 1, enumerate(dataset_inputs)))))[:,0], np.array(list(map(lambda elt : elt[1], filter(lambda c: dataset_expected_outputs[c[0]][2] == 1, enumerate(dataset_inputs)))))[:,1], color='green')\n",
    "    plt.show()\n",
    "    plt.clf()\n",
    "    \n",
    "\n",
    "    print(predicted_outputs)\n",
    "    \n",
    "\n",
    "    mylib.destroy_MLP(model1)"
   ]
  },
  {
   "cell_type": "code",
   "execution_count": 239,
   "metadata": {},
   "outputs": [
    {
     "data": {
      "image/png": "[encoded data removed]",
      "text/plain": [
       "<Figure size 432x288 with 1 Axes>"
      ]
     },
     "metadata": {
      "needs_background": "light"
     },
     "output_type": "display_data"
    },
    {
     "name": "stdout",
     "output_type": "stream",
     "text": [
      "[array([0.41212282, 0.38703272, 0.3643692 ], dtype=float32)]\n"
     ]
    },
    {
     "ename": "ArgumentError",
     "evalue": "argument 1: <class 'OverflowError'>: int too long to convert",
     "output_type": "error",
     "traceback": [
      "\u001b[1;31m---------------------------------------------------------------------------\u001b[0m",
      "\u001b[1;31mArgumentError\u001b[0m                             Traceback (most recent call last)",
      "\u001b[1;32m<ipython-input-239-dd759f16fac1>\u001b[0m in \u001b[0;36m<module>\u001b[1;34m\u001b[0m\n\u001b[0;32m      1\u001b[0m \u001b[1;32mif\u001b[0m \u001b[0m__name__\u001b[0m \u001b[1;33m==\u001b[0m \u001b[1;34m\"__main__\"\u001b[0m\u001b[1;33m:\u001b[0m\u001b[1;33m\u001b[0m\u001b[1;33m\u001b[0m\u001b[0m\n\u001b[1;32m----> 2\u001b[1;33m     \u001b[0mrun_train\u001b[0m\u001b[1;33m(\u001b[0m\u001b[1;33m)\u001b[0m\u001b[1;33m\u001b[0m\u001b[1;33m\u001b[0m\u001b[0m\n\u001b[0m",
      "\u001b[1;32m<ipython-input-238-3f1dc0d9e131>\u001b[0m in \u001b[0;36mrun_train\u001b[1;34m()\u001b[0m\n\u001b[0;32m     77\u001b[0m \u001b[1;33m\u001b[0m\u001b[0m\n\u001b[0;32m     78\u001b[0m \u001b[1;33m\u001b[0m\u001b[0m\n\u001b[1;32m---> 79\u001b[1;33m     \u001b[0mmylib\u001b[0m\u001b[1;33m.\u001b[0m\u001b[0mdestroy_MLP\u001b[0m\u001b[1;33m(\u001b[0m\u001b[0mmodel1\u001b[0m\u001b[1;33m)\u001b[0m\u001b[1;33m\u001b[0m\u001b[1;33m\u001b[0m\u001b[0m\n\u001b[0m",
      "\u001b[1;31mArgumentError\u001b[0m: argument 1: <class 'OverflowError'>: int too long to convert"
     ]
    },
    {
     "data": {
      "text/plain": [
       "<Figure size 432x288 with 0 Axes>"
      ]
     },
     "metadata": {},
     "output_type": "display_data"
    }
   ],
   "source": [
    "if __name__ == \"__main__\":\n",
    "    run_train()"
   ]
  },
  {
   "cell_type": "code",
   "execution_count": null,
   "metadata": {},
   "outputs": [],
   "source": []
  }
 ],
 "metadata": {
  "kernelspec": {
   "display_name": "Python 3",
   "language": "python",
   "name": "python3"
  },
  "language_info": {
   "codemirror_mode": {
    "name": "ipython",
    "version": 3
   },
   "file_extension": ".py",
   "mimetype": "text/x-python",
   "name": "python",
   "nbconvert_exporter": "python",
   "pygments_lexer": "ipython3",
   "version": "3.7.4"
  }
 },
 "nbformat": 4,
 "nbformat_minor": 2
}
